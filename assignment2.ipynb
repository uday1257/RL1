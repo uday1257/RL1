{
  "nbformat": 4,
  "nbformat_minor": 0,
  "metadata": {
    "colab": {
      "provenance": [],
      "authorship_tag": "ABX9TyNi3Q/kZcUANX3cZsfIy8ky",
      "include_colab_link": true
    },
    "kernelspec": {
      "name": "python3",
      "display_name": "Python 3"
    },
    "language_info": {
      "name": "python"
    }
  },
  "cells": [
    {
      "cell_type": "markdown",
      "metadata": {
        "id": "view-in-github",
        "colab_type": "text"
      },
      "source": [
        "<a href=\"https://colab.research.google.com/github/uday1257/RL1/blob/main/assignment2.ipynb\" target=\"_parent\"><img src=\"https://colab.research.google.com/assets/colab-badge.svg\" alt=\"Open In Colab\"/></a>"
      ]
    },
    {
      "cell_type": "code",
      "execution_count": 1,
      "metadata": {
        "colab": {
          "base_uri": "https://localhost:8080/"
        },
        "id": "X9ZCHyV0EPGz",
        "outputId": "03c60837-c0ea-4b29-a706-afb09d1925d6"
      },
      "outputs": [
        {
          "output_type": "stream",
          "name": "stdout",
          "text": [
            "Value Iteration - Average Reward over 100 episodes: 1.0\n",
            "Policy Iteration - Average Reward over 100 episodes: 1.0\n"
          ]
        }
      ],
      "source": [
        "import gymnasium as gym\n",
        "import numpy as np\n",
        "\n",
        "# Create the FrozenLake environment (non-slippery for deterministic behavior)\n",
        "env = gym.make(\"FrozenLake-v1\", is_slippery=False)\n",
        "\n",
        "n_states = env.observation_space.n\n",
        "n_actions = env.action_space.n\n",
        "gamma = 0.99\n",
        "theta = 1e-8\n",
        "\n",
        "\n",
        "def value_iteration(env):\n",
        "    V = np.zeros(n_states)\n",
        "    while True:\n",
        "        delta = 0\n",
        "        for s in range(n_states):\n",
        "            q_values = []\n",
        "            for a in range(n_actions):\n",
        "                q = 0\n",
        "                for prob, next_state, reward, done in env.unwrapped.P[s][a]:\n",
        "                    q += prob * (reward + gamma * V[next_state])\n",
        "                q_values.append(q)\n",
        "            max_q = max(q_values)\n",
        "            delta = max(delta, abs(V[s] - max_q))\n",
        "            V[s] = max_q\n",
        "        if delta < theta:\n",
        "            break\n",
        "\n",
        "    # Derive policy\n",
        "    policy = np.zeros(n_states, dtype=int)\n",
        "    for s in range(n_states):\n",
        "        q_values = []\n",
        "        for a in range(n_actions):\n",
        "            q = 0\n",
        "            for prob, next_state, reward, done in env.unwrapped.P[s][a]:\n",
        "                q += prob * (reward + gamma * V[next_state])\n",
        "            q_values.append(q)\n",
        "        policy[s] = np.argmax(q_values)\n",
        "    return policy, V\n",
        "\n",
        "\n",
        "def policy_iteration(env):\n",
        "    policy = np.zeros(n_states, dtype=int)\n",
        "    V = np.zeros(n_states)\n",
        "\n",
        "    while True:\n",
        "        # Policy Evaluation\n",
        "        while True:\n",
        "            delta = 0\n",
        "            for s in range(n_states):\n",
        "                v = 0\n",
        "                a = policy[s]\n",
        "                for prob, next_state, reward, done in env.unwrapped.P[s][a]:\n",
        "                    v += prob * (reward + gamma * V[next_state])\n",
        "                delta = max(delta, abs(V[s] - v))\n",
        "                V[s] = v\n",
        "            if delta < theta:\n",
        "                break\n",
        "\n",
        "        # Policy Improvement\n",
        "        policy_stable = True\n",
        "        for s in range(n_states):\n",
        "            old_action = policy[s]\n",
        "            q_values = []\n",
        "            for a in range(n_actions):\n",
        "                q = 0\n",
        "                for prob, next_state, reward, done in env.unwrapped.P[s][a]:\n",
        "                    q += prob * (reward + gamma * V[next_state])\n",
        "                q_values.append(q)\n",
        "            new_action = np.argmax(q_values)\n",
        "            policy[s] = new_action\n",
        "            if old_action != new_action:\n",
        "                policy_stable = False\n",
        "\n",
        "        if policy_stable:\n",
        "            break\n",
        "\n",
        "    return policy, V\n",
        "\n",
        "\n",
        "def run_policy(env, policy, render=False):\n",
        "    total_rewards = 0\n",
        "    state, _ = env.reset()\n",
        "    while True:\n",
        "        if render:\n",
        "            env.render()\n",
        "        action = policy[state]\n",
        "        state, reward, terminated, truncated, _ = env.step(action)\n",
        "        total_rewards += reward\n",
        "        if terminated or truncated:\n",
        "            break\n",
        "    return total_rewards\n",
        "\n",
        "\n",
        "# --- Run Value Iteration ---\n",
        "vi_policy, vi_V = value_iteration(env)\n",
        "vi_rewards = [run_policy(env, vi_policy) for _ in range(100)]\n",
        "print(\"Value Iteration - Average Reward over 100 episodes:\", np.mean(vi_rewards))\n",
        "\n",
        "# --- Run Policy Iteration ---\n",
        "pi_policy, pi_V = policy_iteration(env)\n",
        "pi_rewards = [run_policy(env, pi_policy) for _ in range(100)]\n",
        "print(\"Policy Iteration - Average Reward over 100 episodes:\", np.mean(pi_rewards))"
      ]
    }
  ]
}